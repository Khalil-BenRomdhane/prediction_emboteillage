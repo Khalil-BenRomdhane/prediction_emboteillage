{
  "cells": [
    {
      "cell_type": "markdown",
      "metadata": {
        "id": "view-in-github",
        "colab_type": "text"
      },
      "source": [
        "<a href=\"https://colab.research.google.com/github/Khalil-BenRomdhane/prediction_emboteillage/blob/main/prediction_emboteillage_off.ipynb\" target=\"_parent\"><img src=\"https://colab.research.google.com/assets/colab-badge.svg\" alt=\"Open In Colab\"/></a>"
      ]
    },
    {
      "cell_type": "code",
      "execution_count": null,
      "metadata": {
        "id": "H7wgHyPo0oIR"
      },
      "outputs": [],
      "source": [
        "#from google.colab import drive\n",
        "#drive.mount('/content/drive')"
      ]
    },
    {
      "cell_type": "markdown",
      "metadata": {
        "id": "sCO3rmM3QhlN"
      },
      "source": [
        "importation des modules necessaires"
      ]
    },
    {
      "cell_type": "code",
      "execution_count": null,
      "metadata": {
        "id": "z768hxvg0oIT"
      },
      "outputs": [],
      "source": [
        "#%pip install pandas numpy  IPython matplotlib scikit-learn  seaborn\n"
      ]
    },
    {
      "cell_type": "code",
      "execution_count": null,
      "metadata": {
        "id": "Mjgb8a9-0oIT"
      },
      "outputs": [],
      "source": [
        "#%pip install missingno"
      ]
    },
    {
      "cell_type": "code",
      "execution_count": null,
      "metadata": {
        "id": "OTiGRQip0oIT"
      },
      "outputs": [],
      "source": [
        "#%pip install geopy"
      ]
    },
    {
      "cell_type": "markdown",
      "metadata": {
        "id": "hWfbYYHC0oIT"
      },
      "source": [
        "Importation des modules"
      ]
    },
    {
      "cell_type": "code",
      "execution_count": null,
      "metadata": {
        "id": "6_kFcXX2QhlP"
      },
      "outputs": [],
      "source": [
        "import pandas as pd\n",
        "import numpy as np\n",
        "from geopy.geocoders import GoogleV3\n",
        "import matplotlib.pyplot as plt\n",
        "import gc\n",
        "from sklearn.impute import KNNImputer\n",
        "from sklearn.preprocessing import StandardScaler\n",
        "import seaborn as sns\n",
        "import missingno as msno"
      ]
    },
    {
      "cell_type": "markdown",
      "metadata": {
        "id": "wNshACj2QhlQ"
      },
      "source": [
        "Importation de la dataset"
      ]
    },
    {
      "cell_type": "code",
      "execution_count": null,
      "metadata": {
        "id": "SN62iwYZQhlQ"
      },
      "outputs": [],
      "source": [
        "file_path = 'C:/Users/asus/Desktop/jam-prediction/comptages-routiers-permanents.csv'\n",
        "df=pd.read_csv(file_path,sep=\";\")"
      ]
    },
    {
      "cell_type": "markdown",
      "metadata": {
        "id": "cxBarInVQhlR"
      },
      "source": [
        "Affichage des 3 premieres lignes"
      ]
    },
    {
      "cell_type": "code",
      "execution_count": null,
      "metadata": {
        "id": "ZnDVxvY1QhlR"
      },
      "outputs": [],
      "source": [
        "df.head()"
      ]
    },
    {
      "cell_type": "markdown",
      "metadata": {
        "id": "3LMRIPAD0oIU"
      },
      "source": [
        "Les dimennsions de la dataset"
      ]
    },
    {
      "cell_type": "code",
      "execution_count": null,
      "metadata": {
        "id": "q-ngmtH60oIV"
      },
      "outputs": [],
      "source": [
        "df.shape"
      ]
    },
    {
      "cell_type": "markdown",
      "metadata": {
        "id": "as5RrwEAQhlS"
      },
      "source": [
        "Extraction des rues existants dans la datset"
      ]
    },
    {
      "cell_type": "code",
      "execution_count": null,
      "metadata": {
        "id": "KOwe3zssQhlS"
      },
      "outputs": [],
      "source": [
        "rues_paris = df[\"Libelle\"].unique()"
      ]
    },
    {
      "cell_type": "markdown",
      "metadata": {
        "id": "7fACzXjC0oIV"
      },
      "source": [
        "Les dimensions de la serie \"rues_paris\" (Nbr de rues)"
      ]
    },
    {
      "cell_type": "code",
      "execution_count": null,
      "metadata": {
        "id": "LAIJ7-P70oIV"
      },
      "outputs": [],
      "source": [
        "rues_paris.shape"
      ]
    },
    {
      "cell_type": "markdown",
      "metadata": {
        "id": "6dweYdWl0oIV"
      },
      "source": [
        "Affichage des rues"
      ]
    },
    {
      "cell_type": "code",
      "execution_count": null,
      "metadata": {
        "id": "EVBnhq4y0oIV"
      },
      "outputs": [],
      "source": [
        "rues_paris"
      ]
    },
    {
      "cell_type": "markdown",
      "metadata": {
        "id": "2DpbJYC30oIV"
      },
      "source": [
        "Affichage du nombre des valeurs nul pour chaque colonne"
      ]
    },
    {
      "cell_type": "code",
      "execution_count": null,
      "metadata": {
        "id": "OFJ5BrETQhlT"
      },
      "outputs": [],
      "source": [
        "df.isnull().sum()"
      ]
    },
    {
      "cell_type": "code",
      "execution_count": null,
      "metadata": {
        "id": "X5KkJtpJ0oIW"
      },
      "outputs": [],
      "source": [
        "#plt.figure(figsize=(10, 6))\n",
        "#sns.heatmap(df.isnull(), cbar=False, cmap='viridis')\n",
        "#plt.title('Missing Values Heatmap')\n",
        "#plt.show()"
      ]
    },
    {
      "cell_type": "markdown",
      "metadata": {
        "id": "03YxmPJy0oIW"
      },
      "source": [
        "----PARTIE MANIPULATION DES DONNEES----"
      ]
    },
    {
      "cell_type": "markdown",
      "metadata": {
        "id": "aEGKujQTQhlV"
      },
      "source": [
        "Creation des colonnes Longitude et Latitude a travers la colonne geo_point_2D"
      ]
    },
    {
      "cell_type": "code",
      "execution_count": null,
      "metadata": {
        "id": "EfvDIFj1QhlV"
      },
      "outputs": [],
      "source": [
        "df[['Latitude', 'Longitude']] = df['geo_point_2d'].str.split(', ', expand=True)\n",
        "df.head()"
      ]
    },
    {
      "cell_type": "markdown",
      "metadata": {
        "id": "WxPxOshQQhlV"
      },
      "source": [
        "Supression de la colonne geo_point_2d"
      ]
    },
    {
      "cell_type": "code",
      "execution_count": null,
      "metadata": {
        "id": "urVvYxAqQhlV"
      },
      "outputs": [],
      "source": [
        "df.drop(columns=['geo_point_2d'], inplace=True)"
      ]
    },
    {
      "cell_type": "markdown",
      "metadata": {
        "id": "9Pc2J_1t0oIX"
      },
      "source": [
        "Affichage des 5 premiers lignes de la dataset pour voir les nouveaux changement"
      ]
    },
    {
      "cell_type": "code",
      "execution_count": null,
      "metadata": {
        "id": "T5-LRJ1VQhlV"
      },
      "outputs": [],
      "source": [
        "df.head()"
      ]
    },
    {
      "cell_type": "markdown",
      "metadata": {
        "id": "9Bso_pba0oIX"
      },
      "source": [
        "Extraction des valeurs unique de la colonne \"Etat trafic\""
      ]
    },
    {
      "cell_type": "code",
      "execution_count": null,
      "metadata": {
        "id": "3hv_TUfxQhlV"
      },
      "outputs": [],
      "source": [
        "Etat_trafic=df[\"Etat trafic\"].unique()\n",
        "Etat_trafic_mapping={}"
      ]
    },
    {
      "cell_type": "markdown",
      "metadata": {
        "id": "MxJp8xnF0oIX"
      },
      "source": [
        "Attribution d'une valeur numerique pour chaque valeur unique de la colonne \"Etat trafic\" et les enregistrer dans un dictionnaire"
      ]
    },
    {
      "cell_type": "code",
      "execution_count": null,
      "metadata": {
        "id": "YOEj3pQpQhlW"
      },
      "outputs": [],
      "source": [
        "for etat,i in zip(Etat_trafic,range(1,len(Etat_trafic)+1)):\n",
        "    Etat_trafic_mapping[etat]=i\n",
        "Etat_trafic_mapping"
      ]
    },
    {
      "cell_type": "markdown",
      "metadata": {
        "id": "UC0TZT6V0oIX"
      },
      "source": [
        "Creation d'une nouvelle colonne pour les valeurs numerique de la colonne \"Etat trafic\""
      ]
    },
    {
      "cell_type": "code",
      "execution_count": null,
      "metadata": {
        "id": "HBGk7luMQhlW"
      },
      "outputs": [],
      "source": [
        "df['Encoded_Traffic'] = df['Etat trafic'].map(Etat_trafic_mapping)\n",
        "df.head()"
      ]
    },
    {
      "cell_type": "code",
      "execution_count": null,
      "metadata": {
        "id": "jVbUMAI-QhlW"
      },
      "outputs": [],
      "source": [
        "df.rename(columns={\"Encoded_Traffic\": \"Etat_trafic_encoded\"}, inplace=True)\n",
        "df.drop(columns=['Etat trafic'], inplace=True)"
      ]
    },
    {
      "cell_type": "code",
      "execution_count": null,
      "metadata": {
        "id": "ePH-nBUqQhlW"
      },
      "outputs": [],
      "source": [
        "Libelle=df[\"Libelle\"].unique()\n",
        "Libelle_mapping={}"
      ]
    },
    {
      "cell_type": "code",
      "execution_count": null,
      "metadata": {
        "id": "N4TXE06cQhlW"
      },
      "outputs": [],
      "source": [
        "for libelle,i in zip(Libelle,range(1,len(Libelle)+1)):\n",
        "    Libelle_mapping[libelle]=i\n",
        "Libelle_mapping"
      ]
    },
    {
      "cell_type": "code",
      "execution_count": null,
      "metadata": {
        "id": "BYtl9Rw3QhlX"
      },
      "outputs": [],
      "source": [
        "df['Libelle_encoded'] = df['Libelle'].map(Libelle_mapping)"
      ]
    },
    {
      "cell_type": "code",
      "execution_count": null,
      "metadata": {
        "id": "tpMTyWanQhlX"
      },
      "outputs": [],
      "source": [
        "df.head()"
      ]
    },
    {
      "cell_type": "code",
      "execution_count": null,
      "metadata": {
        "id": "o9d6M9AzQhlX"
      },
      "outputs": [],
      "source": [
        "df.drop(columns=['Libelle'], inplace=True)"
      ]
    },
    {
      "cell_type": "code",
      "execution_count": null,
      "metadata": {
        "id": "YMUNQsFgQhlX"
      },
      "outputs": [],
      "source": [
        "df.head()"
      ]
    },
    {
      "cell_type": "code",
      "execution_count": null,
      "metadata": {
        "id": "T0YusAU5QhlX"
      },
      "outputs": [],
      "source": [
        "Libelle_noeud_amont=df[\"Libelle noeud amont\"].unique()\n",
        "Libelle_noeud_amont_mapping={}"
      ]
    },
    {
      "cell_type": "code",
      "execution_count": null,
      "metadata": {
        "id": "PXuaYLVTQhlX"
      },
      "outputs": [],
      "source": [
        "for amont,i in zip(Libelle_noeud_amont,range(1,len(Libelle_noeud_amont)+1)):\n",
        "    Libelle_noeud_amont_mapping[amont]=i\n",
        "Libelle_noeud_amont_mapping"
      ]
    },
    {
      "cell_type": "code",
      "execution_count": null,
      "metadata": {
        "id": "Z3AFY8mRQhlY"
      },
      "outputs": [],
      "source": [
        "df['Libelle_noeud_amont_encoded'] = df['Libelle noeud amont'].map(Libelle_noeud_amont_mapping)"
      ]
    },
    {
      "cell_type": "code",
      "execution_count": null,
      "metadata": {
        "id": "aQhmFSf2QhlY"
      },
      "outputs": [],
      "source": [
        "df.drop(columns=['Libelle noeud amont'], inplace=True)"
      ]
    },
    {
      "cell_type": "code",
      "execution_count": null,
      "metadata": {
        "id": "3DNR8jctQhlY"
      },
      "outputs": [],
      "source": [
        "df.head()"
      ]
    },
    {
      "cell_type": "code",
      "execution_count": null,
      "metadata": {
        "id": "aZWqy-2_QhlZ"
      },
      "outputs": [],
      "source": [
        "df.rename(columns={\"Etat_traffic\": \"Etat_trafic_encoded\"}, inplace=True)"
      ]
    },
    {
      "cell_type": "code",
      "execution_count": null,
      "metadata": {
        "id": "EtqIgYT1QhlZ"
      },
      "outputs": [],
      "source": [
        "df.head(2)"
      ]
    },
    {
      "cell_type": "code",
      "execution_count": null,
      "metadata": {
        "id": "LPIDHZemQhlZ"
      },
      "outputs": [],
      "source": [
        "Libelle_noeud_aval=df[\"Libelle noeud aval\"].unique()\n",
        "Libelle_noeud_aval_mapping={}"
      ]
    },
    {
      "cell_type": "code",
      "execution_count": null,
      "metadata": {
        "id": "KW3alH0fQhlZ"
      },
      "outputs": [],
      "source": [
        "for aval,i in zip(Libelle_noeud_aval,range(1,len(Libelle_noeud_aval)+1)):\n",
        "    Libelle_noeud_aval_mapping[aval]=i\n",
        "Libelle_noeud_aval_mapping"
      ]
    },
    {
      "cell_type": "code",
      "execution_count": null,
      "metadata": {
        "id": "9H1IhaxaQhlZ"
      },
      "outputs": [],
      "source": [
        "df['Libelle_noeud_aval_encoded'] = df['Libelle noeud aval'].map(Libelle_noeud_aval_mapping)"
      ]
    },
    {
      "cell_type": "code",
      "execution_count": null,
      "metadata": {
        "id": "sTEVP_NcQhlZ"
      },
      "outputs": [],
      "source": [
        "df.drop(columns={\"Libelle noeud aval\"},inplace=True)"
      ]
    },
    {
      "cell_type": "code",
      "execution_count": null,
      "metadata": {
        "id": "bOok8jj5QhlZ"
      },
      "outputs": [],
      "source": [
        "df.head()"
      ]
    },
    {
      "cell_type": "code",
      "execution_count": null,
      "metadata": {
        "id": "d5KAE9KvQhla"
      },
      "outputs": [],
      "source": [
        "df['Date et heure de comptage'] = pd.to_datetime(df['Date et heure de comptage'],utc=True)"
      ]
    },
    {
      "cell_type": "code",
      "execution_count": null,
      "metadata": {
        "id": "-0iEyCNCQhla"
      },
      "outputs": [],
      "source": [
        "df.head()\n"
      ]
    },
    {
      "cell_type": "code",
      "execution_count": null,
      "metadata": {
        "id": "pUPXjWYR0oIa"
      },
      "outputs": [],
      "source": [
        "df['Year'] = df['Date et heure de comptage'].dt.year\n",
        "df['Month'] = df['Date et heure de comptage'].dt.month\n",
        "df['Day'] = df['Date et heure de comptage'].dt.day\n",
        "df['Hour'] = df['Date et heure de comptage'].dt.hour\n",
        "df['jour de la semaine']=df['Date et heure de comptage'].dt.day_of_week"
      ]
    },
    {
      "cell_type": "code",
      "execution_count": null,
      "metadata": {
        "id": "izftm9LS0oIb"
      },
      "outputs": [],
      "source": [
        "df.head()"
      ]
    },
    {
      "cell_type": "code",
      "execution_count": null,
      "metadata": {
        "id": "EHcBcV0i0oIb"
      },
      "outputs": [],
      "source": [
        "df.set_index(\"Date et heure de comptage\",inplace=True)"
      ]
    },
    {
      "cell_type": "code",
      "execution_count": null,
      "metadata": {
        "id": "bm1erulS0oIb"
      },
      "outputs": [],
      "source": [
        "print(f\"Data Available from {df.index.min()} to {df.index.max()}\")"
      ]
    },
    {
      "cell_type": "code",
      "execution_count": null,
      "metadata": {
        "id": "0pDDTZmb0oIb"
      },
      "outputs": [],
      "source": [
        "idx = pd.date_range(df.index.min(), df.index.max())\n",
        "idx"
      ]
    },
    {
      "cell_type": "code",
      "execution_count": null,
      "metadata": {
        "id": "SzQZ2Ryv0oIb"
      },
      "outputs": [],
      "source": [
        "# Calculate percentage of missing values in each column\n",
        "missing_percentage = (df.isnull().sum() / len(df)) * 100\n",
        "\n",
        "# Create a bar plot of missing values\n",
        "plt.figure(figsize=(10, 6))\n",
        "sns.barplot(x=missing_percentage.index, y=missing_percentage)\n",
        "plt.xticks(rotation=90)\n",
        "plt.xlabel('Columns')\n",
        "plt.ylabel('Percentage of Missing Values')\n",
        "plt.title('Percentage of Missing Values in Each Column')\n",
        "plt.show()\n"
      ]
    },
    {
      "cell_type": "code",
      "execution_count": null,
      "metadata": {
        "id": "mTZcrZ7a0oIb"
      },
      "outputs": [],
      "source": [
        " #Select the features for KNN imputation\n",
        "features = [ 'Débit horaire', 'Taux d\\'occupation', 'Latitude', 'Longitude','Year','Month','Hour','Day','jour de la semaine']\n",
        "\n",
        "# Standardize the features\n",
        "scaler = StandardScaler()\n",
        "data_scaled = scaler.fit_transform(df[features])\n",
        "\n",
        "# Initialize the KNN imputer\n",
        "imputer = KNNImputer(n_neighbors=5)\n",
        "\n",
        "# Apply the imputer to the standardized data\n",
        "data_imputed = imputer.fit_transform(data_scaled)\n",
        "\n",
        "# Convert the imputed data back to a DataFrame\n",
        "data_imputed_df = pd.DataFrame(data_imputed, columns=features)\n",
        "\n",
        "#Reverse the standardization\n",
        "data_imputed_df = pd.DataFrame(scaler.inverse_transform(data_imputed_df), columns=features)\n",
        "\n",
        "# Replace the original columns with the imputed values\n",
        "df[features] = data_imputed_df[features]\n",
        "\n",
        "# Inspect the imputed data\n",
        "print(df.head())"
      ]
    },
    {
      "cell_type": "code",
      "execution_count": null,
      "metadata": {
        "id": "k1GFirSQ0oIb"
      },
      "outputs": [],
      "source": [
        "#Returning a data set with oaccupation rate per month for each road\n",
        "occupation_mois= df.groupby([\"Day\",\"Month\",'Year','Libelle_encoded'])['Taux d\\'occupation'].mean().reset_index()\n",
        "occupation_mois.set_index(['Day','Month', 'Year'], inplace=True)\n",
        "occupation_moyenne_par_mois_libelle = occupation_mois[occupation_mois['Libelle_encoded']==2]\n",
        "occupation_moyenne_par_mois_libelle.sort_index(level=['Day','Month', 'Year'],ascending=[True,True,True],inplace=True)\n",
        "occupation_moyenne_par_mois_libelle.head(20)\n"
      ]
    },
    {
      "cell_type": "code",
      "execution_count": null,
      "metadata": {
        "id": "euftc3Bx0oIb"
      },
      "outputs": [],
      "source": [
        "\n",
        "# Générer les étiquettes pour l'axe des x au format \"mois-année\"\n",
        "xticks = occupation_moyenne_par_mois_libelle.index.map(lambda idx: f\"{idx[1]}\")\n",
        "\n",
        "# Créer une séquence d'entiers pour l'axe des x\n",
        "x_values = range(len(occupation_moyenne_par_mois_libelle))\n",
        "\n",
        "# Créer le graphique\n",
        "plt.figure(figsize=(12, 8))\n",
        "plt.plot(x_values, occupation_moyenne_par_mois_libelle['Taux d\\'occupation'], marker='o')\n",
        "\n",
        "# Étiqueter les axes des x avec les mois et années\n",
        "plt.xticks(ticks=x_values, labels=xticks, rotation=90)\n",
        "\n",
        "# Ajouter un titre et étiquettes des axes\n",
        "plt.title('Taux d\\'occupation moyen par mois et par année pour un libelle specifique')\n",
        "plt.xlabel('Mois-Année')\n",
        "plt.ylabel('Taux d\\'occupation moyen (%)')\n",
        "\n",
        "# Ajouter une grille\n",
        "plt.grid(True)\n",
        "\n",
        "# Ajuster la disposition pour éviter le chevauchement des étiquettes\n",
        "plt.tight_layout()\n",
        "\n",
        "# Afficher le graphique\n",
        "plt.show()\n",
        "\n"
      ]
    },
    {
      "cell_type": "code",
      "execution_count": null,
      "metadata": {
        "id": "rfjxyUtsQhld"
      },
      "outputs": [],
      "source": [
        " #df.set_index(\"Date et heure de comptage\", inplace=True)"
      ]
    },
    {
      "cell_type": "code",
      "execution_count": null,
      "metadata": {
        "id": "geTfBqDJQhld"
      },
      "outputs": [],
      "source": [
        "#df.head()"
      ]
    },
    {
      "cell_type": "code",
      "execution_count": null,
      "metadata": {
        "id": "sM9-c-zLQhld"
      },
      "outputs": [],
      "source": [
        "#df.sort_index(inplace=True)\n",
        "#df.head()"
      ]
    },
    {
      "cell_type": "code",
      "execution_count": null,
      "metadata": {
        "id": "w7KU7_P80oIc"
      },
      "outputs": [],
      "source": [
        "#df_0=df.fillna({'Taux d\\'occupation': 0, 'Débit horaire': 0})"
      ]
    },
    {
      "cell_type": "code",
      "execution_count": null,
      "metadata": {
        "id": "ygC_ebwe0oIc"
      },
      "outputs": [],
      "source": [
        "#gr_0=df_0.groupby([\"Libelle_encoded\",\"Date et heure de comptage\"]).agg({'Débit horaire':'mean',\n",
        "                                      #'Taux d\\'occupation':'mean'}).reset_index()"
      ]
    },
    {
      "cell_type": "code",
      "execution_count": null,
      "metadata": {
        "id": "V5cXhZ-J0oIc"
      },
      "outputs": [],
      "source": [
        " #taux_occupation_na_0_count=gr_0[gr_0[\"Taux d'occupation\"]==0].shape[0]\n",
        " #debit_horaire_na_0_count=gr_0[gr_0[\"Débit horaire\"]==0].shape[0]\n",
        "\n",
        " #print(debit_horaire_na_0_count,taux_occupation_na_0_count)\n"
      ]
    },
    {
      "cell_type": "code",
      "execution_count": null,
      "metadata": {
        "id": "DJEpy1d70oIc"
      },
      "outputs": [],
      "source": [
        " #gr_0[\"Taux d'occupation\"].replace(0, np.nan, inplace=True)\n",
        " #gr_0[\"Débit horaire\"].replace(0, np.nan, inplace=True)"
      ]
    },
    {
      "cell_type": "code",
      "execution_count": null,
      "metadata": {
        "id": "9netxSBQ0oId"
      },
      "outputs": [],
      "source": [
        " #gr=df.groupby([\"Libelle_encoded\",\"Date et heure de comptage\"]).agg({'Débit horaire':'mean',\n",
        "                                       #'Taux d\\'occupation':'mean'}).reset_index()"
      ]
    },
    {
      "cell_type": "code",
      "execution_count": null,
      "metadata": {
        "id": "oFNYHR_Y0oId"
      },
      "outputs": [],
      "source": [
        " #taux_occupation_na_count=df[\"Taux d'occupation\"].isna().sum()\n",
        " #debit_horaire_na_count=df[\"Débit horaire\"].isna().sum()\n",
        "\n",
        " #print(debit_horaire_na_count,taux_occupation_na_count)\n",
        "\n"
      ]
    },
    {
      "cell_type": "code",
      "execution_count": null,
      "metadata": {
        "id": "LmaX3vSd0oId"
      },
      "outputs": [],
      "source": [
        " #gr_0"
      ]
    },
    {
      "cell_type": "code",
      "execution_count": null,
      "metadata": {
        "id": "18V7txRF0oId"
      },
      "outputs": [],
      "source": [
        "  # def concat_coordinates(coords):\n",
        "    # Remplacer les valeurs nulles ou NaN par des chaînes vides\n",
        "     #coords = coords.fillna('')\n",
        "    # Concaténer les coordonnées en une seule chaîne séparée par '|'\n",
        "     #return '|'.join(coords)"
      ]
    },
    {
      "cell_type": "code",
      "execution_count": null,
      "metadata": {
        "id": "JEz6Eu6x0oId"
      },
      "outputs": [],
      "source": [
        " #longitude_latitude= df[['Libelle_encoded', 'Longitude', 'Latitude']]\n",
        " #longitude_latitude['Coordinates'] = df['Longitude'] +\",\"+ df['Latitude']\n",
        " #longitude_latitude.drop(columns=[\"Longitude\",\"Latitude\"],inplace=True)"
      ]
    },
    {
      "cell_type": "code",
      "execution_count": null,
      "metadata": {
        "id": "2mIZ6NRf0oIe"
      },
      "outputs": [],
      "source": [
        " #grouped_longitude_latitude= longitude_latitude.groupby(['Libelle_encoded'])['Coordinates'].agg(concat_coordinates).reset_index()"
      ]
    },
    {
      "cell_type": "code",
      "execution_count": null,
      "metadata": {
        "id": "NKOmo4eK0oIe"
      },
      "outputs": [],
      "source": [
        " #grouped_longitude_latitude"
      ]
    },
    {
      "cell_type": "code",
      "execution_count": null,
      "metadata": {
        "id": "9EY2OFKM0oIe"
      },
      "outputs": [],
      "source": [
        " #final_data_set = pd.merge(gr_0, grouped_longitude_latitude, left_on=\"Libelle_encoded\", right_on='Libelle_encoded', how='inner')"
      ]
    },
    {
      "cell_type": "code",
      "execution_count": null,
      "metadata": {
        "id": "12ZfpIBa0oIe"
      },
      "outputs": [],
      "source": [
        " #final_data_set"
      ]
    },
    {
      "cell_type": "code",
      "execution_count": null,
      "metadata": {
        "id": "eq9EMBDO0oIe"
      },
      "outputs": [],
      "source": [
        " #df_str=df\n",
        " #df_str[\"Identifiant arc\"]=df_str['Identifiant arc'].astype(str)\n",
        " #grouped_id_arc= df_str.groupby(['Libelle_encoded'])['Identifiant arc'].agg(concat_coordinates).reset_index()"
      ]
    },
    {
      "cell_type": "code",
      "execution_count": null,
      "metadata": {
        "id": "vdqm3nnK0oIf"
      },
      "outputs": [],
      "source": [
        " #grouped_id_arc"
      ]
    },
    {
      "cell_type": "code",
      "execution_count": null,
      "metadata": {
        "id": "q1GSlvqn0oIf"
      },
      "outputs": [],
      "source": [
        " #final_data_set = pd.merge(final_data_set, grouped_id_arc, left_on=\"Libelle_encoded\", right_on='Libelle_encoded', how='inner')"
      ]
    },
    {
      "cell_type": "code",
      "execution_count": null,
      "metadata": {
        "id": "InH45eUC0oIf"
      },
      "outputs": [],
      "source": [
        " #final_data_set"
      ]
    },
    {
      "cell_type": "code",
      "execution_count": null,
      "metadata": {
        "id": "Q1wo0q7x0oIf"
      },
      "outputs": [],
      "source": [
        "\n",
        " #df_str[\"Identifiant noeud amont\"]=df_str['Identifiant noeud amont'].astype(str)\n",
        " #grouped_id_amont_arc= df_str.groupby(['Libelle_encoded'])['Identifiant noeud amont'].agg(concat_coordinates).reset_index()"
      ]
    },
    {
      "cell_type": "code",
      "execution_count": null,
      "metadata": {
        "id": "Kf2Vz_iW0oIf"
      },
      "outputs": [],
      "source": []
    },
    {
      "cell_type": "code",
      "execution_count": null,
      "metadata": {
        "id": "wpqZNb0T0oIf"
      },
      "outputs": [],
      "source": [
        " #grouped_id_amont_arc= df_str.groupby(['Libelle_encoded'])['Identifiant noeud amont'].agg(concat_coordinates).reset_index()"
      ]
    },
    {
      "cell_type": "code",
      "execution_count": null,
      "metadata": {
        "id": "dk46WoiM0oIf"
      },
      "outputs": [],
      "source": [
        " #grouped_id_amont_arc"
      ]
    },
    {
      "cell_type": "code",
      "execution_count": null,
      "metadata": {
        "id": "O7lWyS_30oIf"
      },
      "outputs": [],
      "source": [
        " #final_data_set = pd.merge(final_data_set, grouped_id_amont_arc, left_on=\"Libelle_encoded\", right_on='Libelle_encoded', how='inner')"
      ]
    },
    {
      "cell_type": "code",
      "execution_count": null,
      "metadata": {
        "id": "-lCTcYfl0oIg"
      },
      "outputs": [],
      "source": [
        " #final_data_set"
      ]
    },
    {
      "cell_type": "code",
      "execution_count": null,
      "metadata": {
        "id": "Krf_b-oW0oIg"
      },
      "outputs": [],
      "source": [
        " #df_str[\"Identifiant noeud aval\"]=df_str['Identifiant noeud aval'].astype(str)\n",
        " #grouped_id_aval_arc= df_str.groupby(['Libelle_encoded'])['Identifiant noeud aval'].agg(concat_coordinates).reset_index()"
      ]
    },
    {
      "cell_type": "code",
      "execution_count": null,
      "metadata": {
        "id": "GFGqhJpm0oIg"
      },
      "outputs": [],
      "source": [
        " #grouped_id_aval_arc\n"
      ]
    },
    {
      "cell_type": "code",
      "execution_count": null,
      "metadata": {
        "id": "_G8a7itn0oIg"
      },
      "outputs": [],
      "source": [
        " #final_data_set = pd.merge(final_data_set, grouped_id_aval_arc, left_on=\"Libelle_encoded\", right_on='Libelle_encoded', how='inner')"
      ]
    },
    {
      "cell_type": "code",
      "execution_count": null,
      "metadata": {
        "id": "tAw4Z9GF0oIg"
      },
      "outputs": [],
      "source": [
        " #final_data_set"
      ]
    },
    {
      "cell_type": "code",
      "execution_count": null,
      "metadata": {
        "id": "98hYi2kt0oIg"
      },
      "outputs": [],
      "source": [
        " #df_str[\"Libelle_noeud_amont_encoded\"]=df_str['Libelle_noeud_amont_encoded'].astype(str)\n",
        " #grouped_id_aval_arc= df_str.groupby(['Libelle_encoded'])['Libelle_noeud_amont_encoded'].agg(concat_coordinates).reset_index()"
      ]
    },
    {
      "cell_type": "code",
      "execution_count": null,
      "metadata": {
        "id": "Ud8D4ewE0oIg"
      },
      "outputs": [],
      "source": [
        " #final_data_set = pd.merge(final_data_set, grouped_id_aval_arc, left_on=\"Libelle_encoded\", right_on='Libelle_encoded', how='inner')"
      ]
    },
    {
      "cell_type": "code",
      "execution_count": null,
      "metadata": {
        "id": "KN2I436C0oIg"
      },
      "outputs": [],
      "source": [
        " #final_data_set"
      ]
    },
    {
      "cell_type": "code",
      "execution_count": null,
      "metadata": {
        "id": "s7ZIPqDr0oIg"
      },
      "outputs": [],
      "source": [
        " #df_str[\"Libelle_noeud_aval_encoded\"]=df_str['Libelle_noeud_aval_encoded'].astype(str)\n",
        " #grouped_id_aval_arc= df_str.groupby(['Libelle_encoded'])['Libelle_noeud_aval_encoded'].agg(concat_coordinates).reset_index()"
      ]
    },
    {
      "cell_type": "code",
      "execution_count": null,
      "metadata": {
        "id": "VUlv_OL70oIh"
      },
      "outputs": [],
      "source": [
        " #final_data_set = pd.merge(final_data_set, grouped_id_aval_arc, left_on=\"Libelle_encoded\", right_on='Libelle_encoded', how='inner')"
      ]
    },
    {
      "cell_type": "code",
      "execution_count": null,
      "metadata": {
        "id": "3NmhdltN0oIh"
      },
      "outputs": [],
      "source": [
        " #final_data_set"
      ]
    },
    {
      "cell_type": "code",
      "execution_count": null,
      "metadata": {
        "id": "7-ttNFt90oIh"
      },
      "outputs": [],
      "source": [
        " #final_data_set.set_index(\"Date et heure de comptage\",inplace=True)"
      ]
    },
    {
      "cell_type": "code",
      "execution_count": null,
      "metadata": {
        "id": "UHYbjulH0oIh"
      },
      "outputs": [],
      "source": [
        " #final_data_set"
      ]
    },
    {
      "cell_type": "code",
      "execution_count": null,
      "metadata": {
        "id": "WDrpjL3D0oIh"
      },
      "outputs": [],
      "source": [
        " #def parse_coordinates(coord_string):\n",
        "     #pairs = coord_string.split('|')\n",
        "     #coordinates = [(float(pair.split(',')[1]), float(pair.split(',')[0])) for pair in pairs]\n",
        "     #return coordinates\n"
      ]
    },
    {
      "cell_type": "code",
      "execution_count": null,
      "metadata": {
        "id": "PTxn6fIo0oIh"
      },
      "outputs": [],
      "source": [
        " #final_data_set['Coordinates'] = final_data_set['Coordinates'].apply(parse_coordinates)\n",
        " #final_data_set['Latitudes'] = final_data_set['Coordinates'].apply(lambda x: [coord[0] for coord in x])\n",
        " #final_data_set['Longitudes'] = final_data_set['Coordinates'].apply(lambda x: [coord[1] for coord in x])\n",
        " #final_data_set['Longitudes'] = final_data_set['Coordinates'].apply(lambda x: [coord[1] for coord in x])"
      ]
    },
    {
      "cell_type": "code",
      "execution_count": null,
      "metadata": {
        "id": "BTlicJOk0oIh"
      },
      "outputs": [],
      "source": [
        " #df_KNN=df.drop(columns=[\"Date debut dispo data\",\"Date fin dispo data\",\n",
        "   #                      \"geo_shape\",\"Etat arc\",\"Identifiant noeud amont\",\n",
        "     #                    \"Identifiant noeud aval\",\"Libelle_noeud_amont_encoded\",\n",
        "       #                  \"Libelle_noeud_aval_encoded\",\"Etat_trafic_encoded\",\n",
        "         #                \"Etat_trafic_encoded\",\"Libelle_encoded\",\"Identifiant arc\"])\n",
        " #df_KNN.reset_index(inplace=True)"
      ]
    },
    {
      "cell_type": "code",
      "execution_count": null,
      "metadata": {
        "id": "MBSuZ4Kn0oIh"
      },
      "outputs": [],
      "source": [
        " #df_KNN[\"Date et heure de comptage\"]=pd.to_datetime(df_KNN['Date et heure de comptage'])"
      ]
    },
    {
      "cell_type": "code",
      "execution_count": null,
      "metadata": {
        "id": "xx4MG8Jv0oIi"
      },
      "outputs": [],
      "source": [
        " #df_KNN['Heure de comptage'] = df_KNN['Date et heure de comptage'].dt.hour\n",
        " #df_KNN['Jour de comptage'] = df_KNN['Date et heure de comptage'].dt.day\n",
        " #df_KNN['Mois de comptage'] = df_KNN['Date et heure de comptage'].dt.month\n",
        " #df_KNN['Année de comptage']=df_KNN['Date et heure de comptage'].dt.year\n",
        " #df_KNN['Jour de la semaine'] = df_KNN['Date et heure de comptage'].dt.weekday\n",
        " #df_KNN.drop(columns=[\"Date et heure de comptage\"],inplace=True)\n"
      ]
    },
    {
      "cell_type": "code",
      "execution_count": null,
      "metadata": {
        "id": "Q076-TQw0oIi"
      },
      "outputs": [],
      "source": [
        " #df_KNN.head()"
      ]
    },
    {
      "cell_type": "code",
      "execution_count": null,
      "metadata": {
        "id": "7lRlYdw00oIi"
      },
      "outputs": [],
      "source": [
        " #imputer = KNNImputer(n_neighbors=10)\n",
        " #df_KNN_imputed = imputer.fit_transform(df_KNN)\n",
        " #df_KNN_imputed = pd.DataFrame(df_KNN_imputed, columns=df_KNN.columns)"
      ]
    },
    {
      "cell_type": "code",
      "execution_count": null,
      "metadata": {
        "id": "7IJuBtUHQhld"
      },
      "outputs": [],
      "source": [
        " #mean_occupation_rate = df.groupby(['Libelle_encoded', 'Date et heure de comptage'])[\"Taux d'occupation\"].mean().reset_index()\n"
      ]
    },
    {
      "cell_type": "code",
      "execution_count": null,
      "metadata": {
        "id": "k9nJmoVfQhld"
      },
      "outputs": [],
      "source": [
        " #mean_occupation_rate"
      ]
    },
    {
      "cell_type": "code",
      "execution_count": null,
      "metadata": {
        "id": "DspzOgUXQhle"
      },
      "outputs": [],
      "source": [
        " #def traffic_evaluation(x):\n",
        "   #  if  x>=0 and x<15 :\n",
        "     #    return 1\n",
        "     #elif x>=15 and x<30 :\n",
        "       #  return 2\n",
        "    #elif x>=30 and x<50 :\n",
        "     #   return 3\n",
        "    #elif x>=50 :\n",
        "     #   return 4"
      ]
    },
    {
      "cell_type": "code",
      "execution_count": null,
      "metadata": {
        "id": "CyAwlvm7Qhle"
      },
      "outputs": [],
      "source": [
        "#mean_occupation_rate.set_index(\"Date et heure de comptage\",inplace=True)"
      ]
    },
    {
      "cell_type": "code",
      "execution_count": null,
      "metadata": {
        "id": "UFbrfZ_RQhle"
      },
      "outputs": [],
      "source": [
        "#mean_occupation_rate.info()"
      ]
    },
    {
      "cell_type": "code",
      "execution_count": null,
      "metadata": {
        "id": "X1LQk8ynQhle"
      },
      "outputs": [],
      "source": [
        "#mean_occupation_rate.head()\n"
      ]
    },
    {
      "cell_type": "code",
      "execution_count": null,
      "metadata": {
        "id": "9PN9v5ViQhlf"
      },
      "outputs": [],
      "source": [
        "#mean_occupation_rate = mean_occupation_rate.assign(Etat_trafic_encoded=mean_occupation_rate[\"Taux d'occupation\"].apply(traffic_evaluation))\n"
      ]
    },
    {
      "cell_type": "code",
      "execution_count": null,
      "metadata": {
        "id": "sbzWnDnCQhlf"
      },
      "outputs": [],
      "source": [
        "#mean_occupation_rate.head()\n"
      ]
    },
    {
      "cell_type": "code",
      "execution_count": null,
      "metadata": {
        "id": "b5YdjDp4Qhlf"
      },
      "outputs": [],
      "source": [
        "#mean_occupation_rate[\"Etat_trafic_encoded\"]"
      ]
    },
    {
      "cell_type": "code",
      "execution_count": null,
      "metadata": {
        "id": "DhatpBZ4Qhlg"
      },
      "outputs": [],
      "source": [
        "#longitude_latitude"
      ]
    },
    {
      "cell_type": "code",
      "execution_count": null,
      "metadata": {
        "id": "kEokv0PnQhlh"
      },
      "outputs": [],
      "source": [
        "#grouped_longitude_latitude"
      ]
    },
    {
      "cell_type": "code",
      "execution_count": null,
      "metadata": {
        "id": "ktmUKnZ-Qhlh"
      },
      "outputs": [],
      "source": [
        "#final_data_set = pd.merge(mean_occupation_rate, grouped_longitude_latitude, left_on=\"Libelle_encoded\", right_on='Libelle_encoded', how='inner')"
      ]
    },
    {
      "cell_type": "code",
      "execution_count": null,
      "metadata": {
        "id": "pAZV0CMqQhlh"
      },
      "outputs": [],
      "source": [
        "#final_data_set.set_index(mean_occupation_rate.index,inplace=True)"
      ]
    },
    {
      "cell_type": "code",
      "execution_count": null,
      "metadata": {
        "id": "Dx9yi2UJQhlh"
      },
      "outputs": [],
      "source": [
        "#final_data_set"
      ]
    },
    {
      "cell_type": "code",
      "execution_count": null,
      "metadata": {
        "id": "HeQrwvBeQhlh"
      },
      "outputs": [],
      "source": [
        "#final_data_set[\"Libelle_encoded\"].unique()"
      ]
    },
    {
      "cell_type": "code",
      "execution_count": null,
      "metadata": {
        "id": "ZGAoT-eHQhli"
      },
      "outputs": [],
      "source": [
        "#mean_debit_horaire = df.groupby(['Libelle_encoded', 'Date et heure de comptage'])[\"Débit horaire\"].mean().reset_index()\n"
      ]
    },
    {
      "cell_type": "code",
      "execution_count": null,
      "metadata": {
        "id": "esS4C1_DUez3"
      },
      "outputs": [],
      "source": [
        "#del df\n",
        "#del mean_occupation_rate\n",
        "#del grouped_longitude_latitude\n",
        "#del longitude_latitude\n",
        "#gc.collect()"
      ]
    },
    {
      "cell_type": "code",
      "execution_count": null,
      "metadata": {
        "id": "kBxw9DUQQhli"
      },
      "outputs": [],
      "source": [
        "#mean_debit_horaire.set_index(\"Date et heure de comptage\",inplace=True)"
      ]
    },
    {
      "cell_type": "code",
      "execution_count": null,
      "metadata": {
        "id": "ykasMSNqQhli"
      },
      "outputs": [],
      "source": [
        "#mean_debit_horaire"
      ]
    },
    {
      "cell_type": "code",
      "execution_count": null,
      "metadata": {
        "id": "GZmQAXXcQhli"
      },
      "outputs": [],
      "source": [
        "#final_data_set"
      ]
    },
    {
      "cell_type": "code",
      "execution_count": null,
      "metadata": {
        "id": "NQ5XwN_yGtqJ"
      },
      "outputs": [],
      "source": [
        "jours_feries=pd.read_csv(\"C:/Users/asus/Desktop/Jam-prediction/jours_feries_metropole.csv\",sep=\",\")"
      ]
    },
    {
      "cell_type": "code",
      "execution_count": null,
      "metadata": {
        "id": "ss2h8IaC0oIk"
      },
      "outputs": [],
      "source": [
        "jours_feries"
      ]
    },
    {
      "cell_type": "code",
      "execution_count": null,
      "metadata": {
        "id": "WrksQwEz93X9"
      },
      "outputs": [],
      "source": [
        "jours_feries['date'] = pd.to_datetime(jours_feries['date'])"
      ]
    },
    {
      "cell_type": "code",
      "execution_count": null,
      "metadata": {
        "id": "CyZRQIooMPgP"
      },
      "outputs": [],
      "source": [
        "jours_feries[jours_feries[\"date\"]==\"2024-01-01\"]"
      ]
    },
    {
      "cell_type": "code",
      "execution_count": null,
      "metadata": {
        "id": "9KaSY5zYMPlR"
      },
      "outputs": [],
      "source": [
        "jours_feries['date']"
      ]
    },
    {
      "cell_type": "code",
      "execution_count": null,
      "metadata": {
        "id": "jJ6Q6it00oIl"
      },
      "outputs": [],
      "source": [
        "def is_holiday(date):\n",
        "        date = date.strftime('%Y-%m-%d')\n",
        "        return date in jours_feries[\"date\"].astype(str).values"
      ]
    },
    {
      "cell_type": "code",
      "execution_count": null,
      "metadata": {
        "id": "nD-B14j_0oIl"
      },
      "outputs": [],
      "source": [
        "df.head()"
      ]
    },
    {
      "cell_type": "code",
      "execution_count": null,
      "metadata": {
        "id": "Oda4XkoXPced"
      },
      "outputs": [],
      "source": [
        "df['feries'] =df.index.map(is_holiday)"
      ]
    },
    {
      "cell_type": "code",
      "execution_count": null,
      "metadata": {
        "id": "ceyv6qL80oIl"
      },
      "outputs": [],
      "source": []
    },
    {
      "cell_type": "code",
      "execution_count": null,
      "metadata": {
        "id": "1QIpGUWw0oIl"
      },
      "outputs": [],
      "source": []
    },
    {
      "cell_type": "code",
      "execution_count": null,
      "metadata": {
        "id": "skakQOAjrGlg"
      },
      "outputs": [],
      "source": []
    },
    {
      "cell_type": "code",
      "execution_count": null,
      "metadata": {
        "id": "WGuYxgP20oIm"
      },
      "outputs": [],
      "source": []
    }
  ],
  "metadata": {
    "accelerator": "GPU",
    "colab": {
      "gpuType": "T4",
      "private_outputs": true,
      "provenance": [],
      "include_colab_link": true
    },
    "kernelspec": {
      "display_name": "Python 3 (ipykernel)",
      "language": "python",
      "name": "python3"
    },
    "language_info": {
      "codemirror_mode": {
        "name": "ipython",
        "version": 3
      },
      "file_extension": ".py",
      "mimetype": "text/x-python",
      "name": "python",
      "nbconvert_exporter": "python",
      "pygments_lexer": "ipython3",
      "version": "3.10.6"
    }
  },
  "nbformat": 4,
  "nbformat_minor": 0
}